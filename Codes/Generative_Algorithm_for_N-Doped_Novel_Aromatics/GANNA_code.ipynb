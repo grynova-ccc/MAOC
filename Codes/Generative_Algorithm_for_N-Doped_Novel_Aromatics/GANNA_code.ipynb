{
 "cells": [
  {
   "cell_type": "code",
   "execution_count": 1,
   "id": "52428dc1-e760-4e5c-91b1-9140b636d040",
   "metadata": {},
   "outputs": [
    {
     "name": "stderr",
     "output_type": "stream",
     "text": [
      "2023-03-16 14:45:21.785076: W tensorflow/stream_executor/platform/default/dso_loader.cc:64] Could not load dynamic library 'libcudart.so.11.0'; dlerror: libcudart.so.11.0: cannot open shared object file: No such file or directory\n",
      "2023-03-16 14:45:21.785100: I tensorflow/stream_executor/cuda/cudart_stub.cc:29] Ignore above cudart dlerror if you do not have a GPU set up on your machine.\n"
     ]
    }
   ],
   "source": [
    "import os\n",
    "import os.path\n",
    "import glob\n",
    "import tempfile\n",
    "from itertools import combinations\n",
    "import pandas as pd\n",
    "import numpy as np\n",
    "from openbabel import pybel\n",
    "from rdkit import Chem\n",
    "from rdkit.Chem import AllChem\n",
    "from chemml.chem import Molecule\n",
    "pybel.ob.obErrorLog.StopLogging()"
   ]
  },
  {
   "cell_type": "code",
   "execution_count": 2,
   "id": "daf41a03-b514-4a99-b473-57c9c9bae035",
   "metadata": {},
   "outputs": [],
   "source": [
    "def GANNA (inp_dir=None, out_dir=None,hetero_nr=1):\n",
    "    for o in glob.glob(inp_dir):\n",
    "        frame=open(o)\n",
    "        framework=frame.readlines()\n",
    "        Nr_heteroatom=hetero_nr\n",
    "# Generating structures\n",
    "\n",
    "        xyz=[]\n",
    "        smiles=[]\n",
    "        canon_smiles=[]\n",
    "        canon_smiles_tab=[]\n",
    "        final_smiles=[]\n",
    "        for element1 in framework:\n",
    "            xyz.append(element1.split())\n",
    "        df=pd.DataFrame(xyz[2:])\n",
    "        t=[]\n",
    "        for framework in range(len(df)):\n",
    "            if df.loc[framework][0]=='H':\n",
    "                t.append(framework)\n",
    "        asd=df.drop(t)\n",
    "        y = df[df[0]=='H']\n",
    "        for index in list(combinations(asd.index,Nr_heteroatom)):\n",
    "            asd.loc[index,0]='N'\n",
    "            qas=[]\n",
    "            for n in index:\n",
    "                q=[]\n",
    "                for i in t:\n",
    "                    q.append(np.linalg.norm(np.array(asd.loc[n][1:]).astype('float') - np.array(y.loc[i][1:]).astype('float')))\n",
    "                qas.append(pd.DataFrame(q,columns=['A']).astype('float').nsmallest(Nr_heteroatom,columns='A').index.array[0])\n",
    "            Q=pd.DataFrame(y).reset_index()\n",
    "            Q.drop(qas, axis=0, inplace=True)\n",
    "            u=Q.pop('index')\n",
    "            asd=pd.concat([asd,Q],axis=0)\n",
    "    \n",
    "# Generating SMILES\n",
    "    \n",
    "            with tempfile.TemporaryDirectory() as td:\n",
    "                f_name = os.path.join(td, 'test.txt')\n",
    "                with open(f_name, 'w') as fh:\n",
    "                    fh.write(str(len(asd))+' \\n\\n'+asd.to_string(index=False,index_names=False,header=False))    \n",
    "                smiles.append(xyz_to_smiles(fh.name))\n",
    "            asd=df.drop(t)\n",
    "        for i in range(30):\n",
    "            for s in smiles:\n",
    "                for ele in s:\n",
    "                    if ele.isupper()==True:\n",
    "                        smiles.remove(s)\n",
    "                        break\n",
    "                \n",
    "# Rendering compounds according to the symetry\n",
    "\n",
    "        for i in smiles:\n",
    "            canon_smiles.append(Chem.CanonSmiles(i))\n",
    "        C=pd.concat([pd.DataFrame(canon_smiles,columns=['canon']),pd.DataFrame(smiles,columns=['smiles'])],axis=1)\n",
    "        for u in list(set(canon_smiles)):\n",
    "            canon_smiles_tab.append(C.loc[C['canon'] == u].reset_index().iloc[[0]]['smiles'])\n",
    "\n",
    "# Generating SMILES of unique compounds\n",
    "\n",
    "        for t in canon_smiles_tab:\n",
    "            final_smiles.append(t[0])\n",
    "        for file in final_smiles:\n",
    "            mol = Molecule(file, input_type='smiles')\n",
    "            mol.hydrogens('add')\n",
    "            mol.to_xyz(optimizer='MMFF', mmffVariant='MMFF94s', maxIters=100)\n",
    "            s=pd.concat([pd.DataFrame(mol.xyz.atomic_symbols),pd.DataFrame(mol.xyz.geometry)],axis=1)\n",
    "            with open(out_dir+'/N_doped_'+frame.name.split('/')[-1].split('.')[0]+'_N'+str(Nr_heteroatom)+'_'+str(final_smiles.index(file))+'.xyz', 'w') as f:\n",
    "                f.write(str(len(s))+' \\n\\n'+s.to_string(index=False,index_names=False,header=False))\n",
    "                f.close()\n",
    "    return"
   ]
  },
  {
   "cell_type": "code",
   "execution_count": null,
   "id": "db3a006a-bf85-49af-82b2-6849f3b2e08e",
   "metadata": {},
   "outputs": [],
   "source": []
  }
 ],
 "metadata": {
  "kernelspec": {
   "display_name": "Python 3 (ipykernel)",
   "language": "python",
   "name": "python3"
  },
  "language_info": {
   "codemirror_mode": {
    "name": "ipython",
    "version": 3
   },
   "file_extension": ".py",
   "mimetype": "text/x-python",
   "name": "python",
   "nbconvert_exporter": "python",
   "pygments_lexer": "ipython3",
   "version": "3.9.7"
  }
 },
 "nbformat": 4,
 "nbformat_minor": 5
}
